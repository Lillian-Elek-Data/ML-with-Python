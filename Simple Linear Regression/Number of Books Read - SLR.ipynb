{
 "cells": [
  {
   "cell_type": "markdown",
   "metadata": {},
   "source": [
    "# Number of Books Read - Simple Linear Regression"
   ]
  },
  {
   "cell_type": "markdown",
   "metadata": {},
   "source": [
    "## Define the Problem\n",
    "Can the number of books read be predicted based on weekly reading hours?\n",
    "\n",
    "\n",
    "#### Overview:\n",
    "This dataset aims to predict the number of books read per month based on the number of hours spent reading each week. It provides a practical dataset for linear regression tasks, where you can explore how reading habits impact the number of books completed. https://www.kaggle.com/datasets/trushildhokiya/number-of-books-read-simple-linear-regression\n",
    "\n",
    "##### Features:\n",
    "HoursSpentReading (Feature): The number of hours spent reading per week, ranging from 0 to 20 hours. This feature captures the amount of time an individual dedicates to reading each week.\n",
    "BooksRead (Target): The number of books read per month, with values ranging from 0 to 10 books. This target variable represents the outcome influenced by the amount of weekly reading time.\n",
    "\n",
    "---\n",
    "\n"
   ]
  },
  {
   "cell_type": "markdown",
   "metadata": {},
   "source": []
  }
 ],
 "metadata": {
  "kernelspec": {
   "display_name": "base",
   "language": "python",
   "name": "python3"
  },
  "language_info": {
   "name": "python",
   "version": "3.9.12"
  }
 },
 "nbformat": 4,
 "nbformat_minor": 2
}
