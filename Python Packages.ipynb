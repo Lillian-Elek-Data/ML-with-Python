{
 "cells": [
  {
   "cell_type": "markdown",
   "id": "28d6ab66",
   "metadata": {},
   "source": [
    "# Pandas - DataFrame\n",
    "---"
   ]
  },
  {
   "cell_type": "markdown",
   "id": "f452a155",
   "metadata": {},
   "source": [
    "### Overview: \n",
    "Pandas is a Python package providing fast, flexible, and expressive data structures designed to make working with “relational” or “labeled” data both easy and intuitive. It aims to be the fundamental high-level building block for doing practical, real-world data analysis in Python. Additionally, it has the broader goal of becoming the most powerful and flexible open source data analysis/manipulation tool available in any language"
   ]
  },
  {
   "cell_type": "markdown",
   "id": "560acc47",
   "metadata": {},
   "source": [
    "The two primary data structures of pandas, Series (1-dimensional) and DataFrame (2-dimensional), handle the vast majority of typical use cases in finance, statistics, social science, and many areas of engineering. "
   ]
  },
  {
   "cell_type": "markdown",
   "id": "45f0f077",
   "metadata": {},
   "source": [
    "#### Website: https://pandas.pydata.org/docs/user_guide/index.html"
   ]
  },
  {
   "cell_type": "markdown",
   "id": "2f5fd776",
   "metadata": {},
   "source": [
    "#### Advantages"
   ]
  },
  {
   "cell_type": "markdown",
   "id": "3259d0ed",
   "metadata": {},
   "source": [
    "- Tabular data with heterogeneously-typed columns, as in an SQL table or Excel spreadsheet\n",
    "\n",
    "- Ordered and unordered (not necessarily fixed-frequency) time series data.\n",
    "\n",
    "- Arbitrary matrix data (homogeneously typed or heterogeneous) with row and column labels\n",
    "\n",
    "- Any other form of observational / statistical data sets. The data need not be labeled at all to be placed into a pandas data structure"
   ]
  },
  {
   "cell_type": "markdown",
   "id": "e8e7913e",
   "metadata": {},
   "source": [
    "# Numpy - Array\n",
    "---"
   ]
  },
  {
   "cell_type": "markdown",
   "id": "c604d2c3",
   "metadata": {},
   "source": [
    "### Overview: \n",
    "Fast and versatile, the NumPy vectorization, indexing, and broadcasting concepts are the de-facto standards of array computing today."
   ]
  },
  {
   "cell_type": "markdown",
   "id": "91937406",
   "metadata": {},
   "source": [
    "NumPy is the fundamental package for scientific computing in Python. It is a Python library that provides a multidimensional array object, various derived objects (such as masked arrays and matrices), and an assortment of routines for fast operations on arrays, including mathematical, logical, shape manipulation, sorting, selecting, I/O, discrete Fourier transforms, basic linear algebra, basic statistical operations, random simulation and much more."
   ]
  },
  {
   "cell_type": "markdown",
   "id": "0878eddf",
   "metadata": {},
   "source": [
    "At the core of the NumPy package, is the ndarray object. This encapsulates n-dimensional arrays of homogeneous data types, with many operations being performed in compiled code for performance"
   ]
  },
  {
   "cell_type": "markdown",
   "id": "5d1bdd40",
   "metadata": {},
   "source": [
    "#### Website: https://numpy.org/ | https://numpy.org/doc/stable/user/index.html#user"
   ]
  },
  {
   "cell_type": "markdown",
   "id": "48362c89",
   "metadata": {},
   "source": [
    "# Seaborn - Statistical Data Visualization\n",
    "---"
   ]
  },
  {
   "cell_type": "markdown",
   "id": "aa8e5d29",
   "metadata": {},
   "source": [
    "### Overview:\n",
    "Seaborn is a Python data visualization library based on matplotlib. It provides a high-level interface for drawing attractive and informative statistical graphics."
   ]
  },
  {
   "cell_type": "markdown",
   "id": "15519a6d",
   "metadata": {},
   "source": [
    "#### Website: https://seaborn.pydata.org/"
   ]
  },
  {
   "cell_type": "markdown",
   "id": "7b4bd50c",
   "metadata": {},
   "source": [
    "# SKLearn - Machine Learning\n",
    "---"
   ]
  },
  {
   "cell_type": "markdown",
   "id": "3a12ae8c",
   "metadata": {},
   "source": [
    "### Overview\n",
    "Scikit-learn is an open source machine learning library that supports supervised and unsupervised learning. It also provides various tools for model fitting, data preprocessing, model selection, model evaluation, and many other utilities. \n",
    "\n",
    "Scikit-learn, now better known as SKLearn, is a machine learning package for Python. It's name arguably comes from SciPy Toolkit, meaning in addition on top of the popular package SciPy.\n",
    "\n",
    "SKLearn is built on NumPy, SciPy, and matplotlib. This last statement has two major implications. First, SKLearn is very fast and efficient, and second, which applies to us, it often prefers working with arrays."
   ]
  },
  {
   "cell_type": "markdown",
   "id": "d542593b",
   "metadata": {},
   "source": [
    "#### Website: https://scikit-learn.org/stable/ | https://scikit-learn.org/stable/user_guide.html"
   ]
  },
  {
   "cell_type": "markdown",
   "id": "30904a7d",
   "metadata": {},
   "source": [
    "#### Advantages"
   ]
  },
  {
   "cell_type": "markdown",
   "id": "4a0bba08",
   "metadata": {},
   "source": [
    "- First, it boasts incredible documentation. Whatever doubts you may have about how it works, SKLearn has it on its website, usually with example applications. This can be a great supplementary resource for you while you are learning to work with this package.\n",
    "\n",
    "\n",
    "- Second, its variety. In terms of machine learning, SKLearn is definitely the leading package right now. \n",
    " - regression - ML\n",
    " - classification - ML\n",
    " - clustering - ML\n",
    " - support vector machines\n",
    " - dimensionality reduction\n",
    " - famously numerically stable"
   ]
  },
  {
   "cell_type": "markdown",
   "id": "e388f8bd",
   "metadata": {},
   "source": [
    "#### Disadvantages"
   ]
  },
  {
   "cell_type": "markdown",
   "id": "eb1c0b98",
   "metadata": {},
   "source": [
    "The only weak spot in its range is deep learning. TensorFlow, Keras, and PyTorch are much better alternatives in that case."
   ]
  }
 ],
 "metadata": {
  "kernelspec": {
   "display_name": "Python 3 (ipykernel)",
   "language": "python",
   "name": "python3"
  },
  "language_info": {
   "codemirror_mode": {
    "name": "ipython",
    "version": 3
   },
   "file_extension": ".py",
   "mimetype": "text/x-python",
   "name": "python",
   "nbconvert_exporter": "python",
   "pygments_lexer": "ipython3",
   "version": "3.9.12"
  }
 },
 "nbformat": 4,
 "nbformat_minor": 5
}
